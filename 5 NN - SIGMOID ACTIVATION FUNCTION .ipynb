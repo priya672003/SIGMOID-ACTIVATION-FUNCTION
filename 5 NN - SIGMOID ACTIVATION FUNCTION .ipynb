{
 "cells": [
  {
   "cell_type": "code",
   "execution_count": 7,
   "id": "3497ef97",
   "metadata": {},
   "outputs": [],
   "source": [
    "import numpy as np"
   ]
  },
  {
   "cell_type": "code",
   "execution_count": 8,
   "id": "4f316b81",
   "metadata": {},
   "outputs": [],
   "source": [
    "class NeuralNetwork():\n",
    "    def __init__(self):\n",
    "        np.random.seed(1)\n",
    "        \n",
    "        self.synaptic_weights=2*np.random.random((3,1))-1\n",
    "    def sigmoid(self,x):\n",
    "        return 1/(1+np.exp(-x))\n",
    "    def sigmoid_derivative(self,x):\n",
    "        return x*(1-x)\n",
    "    def train(self,training_inputs,training_outputs,training_iterations):\n",
    "        for iteration in range(training_iterations):\n",
    "            output=self.think(training_inputs)\n",
    "            error=training_outputs-output\n",
    "            adjustments=np.dot(training_inputs.T,error*self.sigmoid_derivative(output))\n",
    "            self.synaptic_weights+=adjustments\n",
    "    def think(self,inputs):\n",
    "        inputs=inputs.astype(float)\n",
    "        output=self.sigmoid(np.dot(inputs,self.synaptic_weights))\n",
    "        return output"
   ]
  },
  {
   "cell_type": "code",
   "execution_count": 9,
   "id": "af39e2d3",
   "metadata": {},
   "outputs": [
    {
     "name": "stdout",
     "output_type": "stream",
     "text": [
      "Beginning Randomly Generated Weights: \n",
      "[[-0.16595599]\n",
      " [ 0.44064899]\n",
      " [-0.99977125]]\n",
      "Ending weights after Training: \n",
      "[[10.08740896]\n",
      " [-0.20695366]\n",
      " [-4.83757835]]\n",
      "User Input One: 6\n",
      "User Input two: 7\n",
      "User Input three: 3\n",
      "cosidering New Situations:  6 7 3\n",
      "New Output Data: \n",
      "[1.]\n",
      "Wow,We did it!\n"
     ]
    }
   ],
   "source": [
    "if __name__ == \"__main__\":\n",
    "    neuron=NeuralNetwork()\n",
    "    print(\"Beginning Randomly Generated Weights: \")\n",
    "    print(neuron.synaptic_weights)\n",
    "    training_inputs=np.array([[0,0,1],\n",
    "                             [1,1,1],\n",
    "                             [1,0,1],\n",
    "                             [0,1,1]])\n",
    "    training_outputs=np.array([[0,1,1,0]]).T\n",
    "    \n",
    "    neuron.train(training_inputs, training_outputs, 15000)\n",
    "    \n",
    "    print(\"Ending weights after Training: \")\n",
    "    print(neuron.synaptic_weights)\n",
    "    \n",
    "    user_input_one=str(input(\"User Input One: \"))\n",
    "    user_input_two=str(input(\"User Input two: \"))\n",
    "    user_input_three=str(input(\"User Input three: \"))\n",
    "    \n",
    "    print(\"cosidering New Situations: \",user_input_one,user_input_two,user_input_three)\n",
    "    print(\"New Output Data: \")\n",
    "    print(neuron.think(np.array([user_input_one,user_input_two,user_input_three])))\n",
    "    print(\"Wow,We did it!\")"
   ]
  },
  {
   "cell_type": "code",
   "execution_count": null,
   "id": "3da353fe",
   "metadata": {},
   "outputs": [],
   "source": []
  }
 ],
 "metadata": {
  "kernelspec": {
   "display_name": "Python 3 (ipykernel)",
   "language": "python",
   "name": "python3"
  },
  "language_info": {
   "codemirror_mode": {
    "name": "ipython",
    "version": 3
   },
   "file_extension": ".py",
   "mimetype": "text/x-python",
   "name": "python",
   "nbconvert_exporter": "python",
   "pygments_lexer": "ipython3",
   "version": "3.9.7"
  }
 },
 "nbformat": 4,
 "nbformat_minor": 5
}
